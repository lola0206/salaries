{
 "metadata": {
  "language_info": {
   "codemirror_mode": {
    "name": "ipython",
    "version": 3
   },
   "file_extension": ".py",
   "mimetype": "text/x-python",
   "name": "python",
   "nbconvert_exporter": "python",
   "pygments_lexer": "ipython3",
   "version": "3.8.3-final"
  },
  "orig_nbformat": 2,
  "kernelspec": {
   "name": "Python 3.8.3 64-bit ('anaconda3': virtualenv)",
   "display_name": "Python 3.8.3 64-bit ('anaconda3': virtualenv)",
   "metadata": {
    "interpreter": {
     "hash": "895b43306824f909dd8fc0fe81781e0d62fee5aa42332456ee4a77314d01a104"
    }
   }
  }
 },
 "nbformat": 4,
 "nbformat_minor": 2,
 "cells": [
  {
   "cell_type": "code",
   "execution_count": 1,
   "metadata": {},
   "outputs": [],
   "source": [
    "import pandas as pd "
   ]
  },
  {
   "cell_type": "code",
   "execution_count": 2,
   "metadata": {},
   "outputs": [],
   "source": [
    "import sys\n",
    "sys.path.insert(0,\"/home/laura/salaries\")\n",
    "import salaries_lib as sl "
   ]
  },
  {
   "cell_type": "code",
   "execution_count": 3,
   "metadata": {},
   "outputs": [
    {
     "output_type": "execute_result",
     "data": {
      "text/plain": [
       "'/home/laura/salaries/salaries_data/raw/datos.csv'"
      ]
     },
     "metadata": {},
     "execution_count": 3
    }
   ],
   "source": [
    "sl.download_data(\"/home/laura/salaries/salaries_data/raw/datos.csv\")"
   ]
  },
  {
   "cell_type": "code",
   "execution_count": 4,
   "metadata": {},
   "outputs": [],
   "source": [
    "salaries_df = pd.read_csv(\"/home/laura/salaries/salaries_data/raw/datos.csv\")"
   ]
  },
  {
   "cell_type": "code",
   "execution_count": 5,
   "metadata": {},
   "outputs": [
    {
     "output_type": "execute_result",
     "data": {
      "text/plain": [
       "Index(['Timestamp', '¿Para qué tipo de empresa trabaja?',\n",
       "       'La empresa para la que usted trabaja se dedica principalmente a',\n",
       "       '¿Cuantos años de fundada tiene la empresa para la que trabaja?',\n",
       "       '¿Cuál es su título en la empresa?',\n",
       "       '¿Se considera usted fundador en la empresa?',\n",
       "       '¿Qué porcentaje de su tiempo laboral se ocupa en tareas relacionadas a desarrollo de software?',\n",
       "       '¿Qué porcentaje de su tiempo laboral se ocupa en gerencia de proyectos?',\n",
       "       '¿Qué porcentaje de su tiempo laboral se ocupa en liderazgo técnico?',\n",
       "       '¿Qué porcentaje de su tiempo laboral se ocupa en gerencia de ingeniería?',\n",
       "       '¿Cuánto tiempo lleva en su cargo actual (incluyendo freelance)?',\n",
       "       '¿Cuántos años de experiencia en desarrollo de software profesional tiene?',\n",
       "       '¿En cuál de los siguientes lenguajes de programación ocupa la mayoría de su tiempo laboral?',\n",
       "       '¿En qué otros lenguajes de programación ocupa su tiempo laboral?',\n",
       "       'Tipo de relación laboral',\n",
       "       'Su modo de trabajo es: (ignorando el cambio por covid-19)',\n",
       "       'Usted prefiere:', '¿Tiene titulo universitario o técnico?',\n",
       "       '¿Estudió alguna carrera de PRE-grado relacionada a ingeniería de sistemas?',\n",
       "       '¿Estudió alguna carrera de POSTgrado relacionada a ingeniería de sistemas?',\n",
       "       '¿Tomó clases de programación o algorítmia en la universidad?',\n",
       "       '¿Cuál es su máximo titulo alcanzado (graduado)?',\n",
       "       '¿Ha estudiado en algún bootcamp de programación?',\n",
       "       '¿Si ha estudiado en un bootcamp de programación, en cuál? (ingrese el url del bootcamp)',\n",
       "       '¿Cuál es su nivel de inglés para realizar conversaciones técnicas sobre software?',\n",
       "       '¿A usted le pagan en pesos colombianos (COP) o dólares (USD)?',\n",
       "       '¿Usando la moneda de la respuesta anterior, cuánto es su remuneración ANUAL base?  eg 36,000,000 si es pesos o 3,600 si es dólares',\n",
       "       '¿Cuánto es su remuneración ANUAL adicional (usando la moneda que respondio anteriormente)?',\n",
       "       '¿Cuánto era la remuneración base ANUAL de su trabajo/rol anterior?',\n",
       "       '¿Quién paga su seguro de salud?',\n",
       "       '¿Quién paga sus pensiones y cesantias?',\n",
       "       '¿Tiene acciones (opciones/stock options/rsus) o dividendos de su empresa como parte de su compensación?',\n",
       "       '¿Si tiene acciones, cuántas tiene en total?',\n",
       "       '¿Si tiene acciones, cuál es el precio de emisión por acción en USD? (use $3,750 como tasa de cambio si es necesario)',\n",
       "       '¿Trabaja usted en proyectos freelance a pesar de tener trabajo tiempo completo?',\n",
       "       '¿Cuanto fue el total de sus ingresos adicionales de proyectos freelance el año pasado?',\n",
       "       '¿Siente que su salario es justo?',\n",
       "       '¿En qué sitio web busca oportunidades laborales principalmente?',\n",
       "       '¿En que ciudad de Colombia vive?', '¿Cuál es su país de procedencia?',\n",
       "       '¿En qué año nació?', '¿Cuantos hijos tiene?',\n",
       "       '¿Con cual pronombre prefiere que se refieran a usted? ',\n",
       "       '¿Se considera usted parte de una minoría racial o étnica?',\n",
       "       '¿Cuantas horas trabaja por semana?'],\n",
       "      dtype='object')"
      ]
     },
     "metadata": {},
     "execution_count": 5
    }
   ],
   "source": [
    "salaries_df.columns"
   ]
  },
  {
   "cell_type": "code",
   "execution_count": 5,
   "metadata": {},
   "outputs": [],
   "source": [
    "salaries_df = sl.sel(salaries_df)"
   ]
  },
  {
   "cell_type": "code",
   "execution_count": 6,
   "metadata": {},
   "outputs": [
    {
     "output_type": "execute_result",
     "data": {
      "text/plain": [
       "     ¿A usted le pagan en pesos colombianos (COP) o dólares (USD)?  \\\n",
       "1316                                            dólares              \n",
       "1497                                              pesos              \n",
       "900                                             dólares              \n",
       "520                                               pesos              \n",
       "349                                               pesos              \n",
       "\n",
       "      ¿Usando la moneda de la respuesta anterior, cuánto es su remuneración ANUAL base?  eg 36,000,000 si es pesos o 3,600 si es dólares  \n",
       "1316                                            50000.0                                                                                   \n",
       "1497                                        144000000.0                                                                                   \n",
       "900                                              2300.0                                                                                   \n",
       "520                                          36000000.0                                                                                   \n",
       "349                                          69000000.0                                                                                   "
      ],
      "text/html": "<div>\n<style scoped>\n    .dataframe tbody tr th:only-of-type {\n        vertical-align: middle;\n    }\n\n    .dataframe tbody tr th {\n        vertical-align: top;\n    }\n\n    .dataframe thead th {\n        text-align: right;\n    }\n</style>\n<table border=\"1\" class=\"dataframe\">\n  <thead>\n    <tr style=\"text-align: right;\">\n      <th></th>\n      <th>¿A usted le pagan en pesos colombianos (COP) o dólares (USD)?</th>\n      <th>¿Usando la moneda de la respuesta anterior, cuánto es su remuneración ANUAL base?  eg 36,000,000 si es pesos o 3,600 si es dólares</th>\n    </tr>\n  </thead>\n  <tbody>\n    <tr>\n      <th>1316</th>\n      <td>dólares</td>\n      <td>50000.0</td>\n    </tr>\n    <tr>\n      <th>1497</th>\n      <td>pesos</td>\n      <td>144000000.0</td>\n    </tr>\n    <tr>\n      <th>900</th>\n      <td>dólares</td>\n      <td>2300.0</td>\n    </tr>\n    <tr>\n      <th>520</th>\n      <td>pesos</td>\n      <td>36000000.0</td>\n    </tr>\n    <tr>\n      <th>349</th>\n      <td>pesos</td>\n      <td>69000000.0</td>\n    </tr>\n  </tbody>\n</table>\n</div>"
     },
     "metadata": {},
     "execution_count": 6
    }
   ],
   "source": [
    "salaries_df.sample(5)"
   ]
  },
  {
   "cell_type": "code",
   "execution_count": 7,
   "metadata": {},
   "outputs": [],
   "source": [
    "salaries_df = sl.mayus(salaries_df)"
   ]
  },
  {
   "cell_type": "code",
   "execution_count": 8,
   "metadata": {},
   "outputs": [
    {
     "output_type": "execute_result",
     "data": {
      "text/plain": [
       "  ¿A USTED LE PAGAN EN PESOS COLOMBIANOS (COP) O DÓLARES (USD)?  \\\n",
       "0                                              pesos              \n",
       "1                                            dólares              \n",
       "2                                            dólares              \n",
       "3                                              pesos              \n",
       "4                                              pesos              \n",
       "\n",
       "   ¿USANDO LA MONEDA DE LA RESPUESTA ANTERIOR, CUÁNTO ES SU REMUNERACIÓN ANUAL BASE?  EG 36,000,000 SI ES PESOS O 3,600 SI ES DÓLARES  \n",
       "0                                               32.3                                                                                   \n",
       "1                                        290000000.0                                                                                   \n",
       "2                                            72000.0                                                                                   \n",
       "3                                         72000000.0                                                                                   \n",
       "4                                         43200000.0                                                                                   "
      ],
      "text/html": "<div>\n<style scoped>\n    .dataframe tbody tr th:only-of-type {\n        vertical-align: middle;\n    }\n\n    .dataframe tbody tr th {\n        vertical-align: top;\n    }\n\n    .dataframe thead th {\n        text-align: right;\n    }\n</style>\n<table border=\"1\" class=\"dataframe\">\n  <thead>\n    <tr style=\"text-align: right;\">\n      <th></th>\n      <th>¿A USTED LE PAGAN EN PESOS COLOMBIANOS (COP) O DÓLARES (USD)?</th>\n      <th>¿USANDO LA MONEDA DE LA RESPUESTA ANTERIOR, CUÁNTO ES SU REMUNERACIÓN ANUAL BASE?  EG 36,000,000 SI ES PESOS O 3,600 SI ES DÓLARES</th>\n    </tr>\n  </thead>\n  <tbody>\n    <tr>\n      <th>0</th>\n      <td>pesos</td>\n      <td>32.3</td>\n    </tr>\n    <tr>\n      <th>1</th>\n      <td>dólares</td>\n      <td>290000000.0</td>\n    </tr>\n    <tr>\n      <th>2</th>\n      <td>dólares</td>\n      <td>72000.0</td>\n    </tr>\n    <tr>\n      <th>3</th>\n      <td>pesos</td>\n      <td>72000000.0</td>\n    </tr>\n    <tr>\n      <th>4</th>\n      <td>pesos</td>\n      <td>43200000.0</td>\n    </tr>\n  </tbody>\n</table>\n</div>"
     },
     "metadata": {},
     "execution_count": 8
    }
   ],
   "source": [
    "salaries_df.head()"
   ]
  },
  {
   "cell_type": "code",
   "execution_count": 9,
   "metadata": {},
   "outputs": [
    {
     "output_type": "execute_result",
     "data": {
      "text/plain": [
       "(     ¿A USTED LE PAGAN EN PESOS COLOMBIANOS (COP) O DÓLARES (USD)?  \\\n",
       " 0                                                 pesos              \n",
       " 3                                                 pesos              \n",
       " 4                                                 pesos              \n",
       " 8                                                 pesos              \n",
       " 9                                                 pesos              \n",
       " ...                                                 ...              \n",
       " 1696                                              pesos              \n",
       " 1697                                              pesos              \n",
       " 1699                                              pesos              \n",
       " 1700                                              pesos              \n",
       " 1702                                              pesos              \n",
       " \n",
       "       ¿USANDO LA MONEDA DE LA RESPUESTA ANTERIOR, CUÁNTO ES SU REMUNERACIÓN ANUAL BASE?  EG 36,000,000 SI ES PESOS O 3,600 SI ES DÓLARES  \n",
       " 0                                                  32.3                                                                                   \n",
       " 3                                            72000000.0                                                                                   \n",
       " 4                                            43200000.0                                                                                   \n",
       " 8                                           102000000.0                                                                                   \n",
       " 9                                            62400000.0                                                                                   \n",
       " ...                                                 ...                                                                                   \n",
       " 1696                                         70000000.0                                                                                   \n",
       " 1697                                         75600000.0                                                                                   \n",
       " 1699                                        114000000.0                                                                                   \n",
       " 1700                                        102000000.0                                                                                   \n",
       " 1702                                         60000000.0                                                                                   \n",
       " \n",
       " [1480 rows x 2 columns],\n",
       "      ¿A USTED LE PAGAN EN PESOS COLOMBIANOS (COP) O DÓLARES (USD)?  \\\n",
       " 1                                               dólares              \n",
       " 2                                               dólares              \n",
       " 5                                               dólares              \n",
       " 6                                               dólares              \n",
       " 7                                               dólares              \n",
       " ...                                                 ...              \n",
       " 1684                                            dólares              \n",
       " 1686                                            dólares              \n",
       " 1694                                            dólares              \n",
       " 1698                                            dólares              \n",
       " 1701                                            dólares              \n",
       " \n",
       "       ¿USANDO LA MONEDA DE LA RESPUESTA ANTERIOR, CUÁNTO ES SU REMUNERACIÓN ANUAL BASE?  EG 36,000,000 SI ES PESOS O 3,600 SI ES DÓLARES  \n",
       " 1                                           290000000.0                                                                                   \n",
       " 2                                               72000.0                                                                                   \n",
       " 5                                               64800.0                                                                                   \n",
       " 6                                               21600.0                                                                                   \n",
       " 7                                                 320.0                                                                                   \n",
       " ...                                                 ...                                                                                   \n",
       " 1684                                            65600.0                                                                                   \n",
       " 1686                                            48000.0                                                                                   \n",
       " 1694                                            57000.0                                                                                   \n",
       " 1698                                            12000.0                                                                                   \n",
       " 1701                                            42000.0                                                                                   \n",
       " \n",
       " [223 rows x 2 columns])"
      ]
     },
     "metadata": {},
     "execution_count": 9
    }
   ],
   "source": [
    "sl.divide(salaries_df)"
   ]
  },
  {
   "cell_type": "code",
   "execution_count": null,
   "metadata": {},
   "outputs": [],
   "source": []
  }
 ]
}